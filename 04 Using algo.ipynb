{
 "cells": [
  {
   "cell_type": "code",
   "execution_count": 6,
   "id": "0f8b38d2-a185-4cca-b941-9ce395e968b7",
   "metadata": {},
   "outputs": [],
   "source": [
    "import pickle as pkl\n",
    "import numpy as np\n",
    "import pandas as pd"
   ]
  },
  {
   "cell_type": "code",
   "execution_count": 9,
   "id": "11f537ef-c147-47af-8ba7-95040306eabe",
   "metadata": {},
   "outputs": [
    {
     "name": "stdin",
     "output_type": "stream",
     "text": [
      "Enter a Company Name:- Hyundai\n",
      "Enter a Car Name:- Hyundai Eon\n",
      "Enter a Year:- 2020\n",
      "Enter a Kms_Driven:- 35000\n",
      "Enter a Fuel_Type:- Petrol\n"
     ]
    },
    {
     "name": "stdout",
     "output_type": "stream",
     "text": [
      "You Should buy it for price:- 386791\n"
     ]
    }
   ],
   "source": [
    "company = input(\"Enter a Company Name:-\")\n",
    "name = input(\"Enter a Car Name:-\")\n",
    "year = int(input(\"Enter a Year:-\"))\n",
    "kms_driven = int(input(\"Enter a Kms_Driven:-\"))\n",
    "fuel_type = input(\"Enter a Fuel_Type:-\")\n",
    "columns = ['company', 'name', 'year', 'kms_driven', 'fuel_type']\n",
    "myinput = pd.DataFrame(columns = columns, data = [[company, name, year, kms_driven, fuel_type]])\n",
    "pipe = pkl.load(open('CarProject.pkl','rb'))\n",
    "result = pipe.predict(myinput)\n",
    "print('You Should buy it for price:-', round(result[0,0]))"
   ]
  },
  {
   "cell_type": "code",
   "execution_count": null,
   "id": "65d91b55-200a-4e04-b886-d5363c6e88a2",
   "metadata": {},
   "outputs": [],
   "source": []
  }
 ],
 "metadata": {
  "kernelspec": {
   "display_name": "Python 3 (ipykernel)",
   "language": "python",
   "name": "python3"
  },
  "language_info": {
   "codemirror_mode": {
    "name": "ipython",
    "version": 3
   },
   "file_extension": ".py",
   "mimetype": "text/x-python",
   "name": "python",
   "nbconvert_exporter": "python",
   "pygments_lexer": "ipython3",
   "version": "3.12.7"
  }
 },
 "nbformat": 4,
 "nbformat_minor": 5
}
